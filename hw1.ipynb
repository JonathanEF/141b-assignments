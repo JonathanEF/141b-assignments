{
 "cells": [
  {
   "cell_type": "markdown",
   "metadata": {},
   "source": [
    "# STA 141B Assignment 1\n",
    "\n",
    "Due __Jan 17, 2019__ by 11:59pm. Submit by editing this file, committing the changes with git, and then pushing to your private GitHub repo for the assignment. This assignment is intentionally short so that you can submit a little bit early and have time to work out any issues with git!\n",
    "\n",
    "Please do not rename this file or delete the exercise cells, because it will interfere with our grading tools.\n",
    "\n",
    "Put your answers in new cells after each exercise. You can make as many new cells as you like. Use code cells for code and Markdown cells for text. Answer all questions with complete sentences.\n",
    "\n",
    "This assignment will be graded for correctness.\n",
    "\n",
    "The purpose of this assignment is to practice programming fundamentals: writing functions, if-statements, and loops. We'll get to more interesting and data science-y exercises in the next assignment."
   ]
  },
  {
   "cell_type": "markdown",
   "metadata": {
    "tags": [
     "exercise"
    ]
   },
   "source": [
    "## Warm Ups\n",
    "\n",
    "__Exercise 1.1 (10 points).__ In lecture, we saw that Python's lists have reference semantics. Give a similar example that shows Python's dictionaries have reference semantics. Make sure to explain your example."
   ]
  },
  {
   "cell_type": "code",
   "execution_count": 1,
   "metadata": {},
   "outputs": [
    {
     "name": "stdout",
     "output_type": "stream",
     "text": [
      "{'LeBron': 39, 'Curry': 18, 'Harden': 30, 'Winslow': 24, 'Westbrook': 2, 'George': 29}\n",
      "{'LeBron': 39, 'Curry': 18, 'Harden': 30, 'Winslow': 24, 'Westbrook': 2, 'George': 29, 'Durant': 39}\n"
     ]
    }
   ],
   "source": [
    "points = {\"LeBron\":39, \"Curry\":18, \"Harden\":30, \"Winslow\":24, \"Westbrook\":2,\"George\":29}\n",
    "points2 = points\n",
    "print(points2)\n",
    "\n",
    "points[\"Durant\"] = 39 # modify points\n",
    "print(points2) # observe how points2 changes"
   ]
  },
  {
   "cell_type": "markdown",
   "metadata": {},
   "source": [
    "When we say dictionaries have *reference semantics*, that means when we create some dictionary such as **points** and we create another variable **points2** and assign the dictionary of **points**, only one dictionary is created in memory. Two variables, **points** and **points** *reference* the same dicitonary. So, changes made to the **points** dictionary will be seen in **points2**. This is shown in the example above, as we add a key-value pair to the **points** dictionary and the change is apparent in **point2**."
   ]
  },
  {
   "cell_type": "markdown",
   "metadata": {
    "tags": [
     "exercise"
    ]
   },
   "source": [
    "__Exercise 1.2 (10 points).__ Are strings mutable? Give an example and explain your reasoning. _Hint: It's a good idea to confirm your answer by checking the Python 3 documentation._\n",
    "\n",
    "Next, read [the documentation](https://docs.python.org/3/library/stdtypes.html#str.replace) for the string `.replace()` method. Give an example of using the method and explain how it fits in with your understanding of whether or not strings are mutable."
   ]
  },
  {
   "cell_type": "markdown",
   "metadata": {},
   "source": [
    "Strings are *immutable*. So, when we try assigning to an indexed position we will get an error."
   ]
  },
  {
   "cell_type": "code",
   "execution_count": 2,
   "metadata": {},
   "outputs": [
    {
     "ename": "TypeError",
     "evalue": "'str' object does not support item assignment",
     "output_type": "error",
     "traceback": [
      "\u001b[0;31m---------------------------------------------------------------------------\u001b[0m",
      "\u001b[0;31mTypeError\u001b[0m                                 Traceback (most recent call last)",
      "\u001b[0;32m<ipython-input-2-6bfae9575ba4>\u001b[0m in \u001b[0;36m<module>\u001b[0;34m()\u001b[0m\n\u001b[1;32m      1\u001b[0m \u001b[0mstudent\u001b[0m \u001b[0;34m=\u001b[0m \u001b[0;34m\"Jonathan Fernandez\"\u001b[0m\u001b[0;34m\u001b[0m\u001b[0;34m\u001b[0m\u001b[0m\n\u001b[0;32m----> 2\u001b[0;31m \u001b[0mstudent\u001b[0m\u001b[0;34m[\u001b[0m\u001b[0;36m0\u001b[0m\u001b[0;34m]\u001b[0m \u001b[0;34m=\u001b[0m \u001b[0;34m\"M\"\u001b[0m\u001b[0;34m\u001b[0m\u001b[0;34m\u001b[0m\u001b[0m\n\u001b[0m",
      "\u001b[0;31mTypeError\u001b[0m: 'str' object does not support item assignment"
     ]
    }
   ],
   "source": [
    "student = \"Jonathan Fernandez\"\n",
    "student[0] = \"M\""
   ]
  },
  {
   "cell_type": "code",
   "execution_count": 3,
   "metadata": {},
   "outputs": [
    {
     "name": "stdout",
     "output_type": "stream",
     "text": [
      "Tim\n",
      "Jim\n"
     ]
    }
   ],
   "source": [
    "person = \"Jim\"\n",
    "print(person.replace(\"J\",\"T\"))\n",
    "print(person)"
   ]
  },
  {
   "cell_type": "markdown",
   "metadata": {},
   "source": [
    "The **.replace()** method returns a **copy** of the old string and replaces all occurences of the old substring with a new string. One may think that this would contradict the fact that strings in Python are immutable, however, this method returns a **copy** of the old string and modifies that copy, leaving the original string unchanged. This is evident, because when we run the method on **person** and replace the \"J\" substring with \"T\", we see that the string for **person** is left unchanged since the changes were made to the copy."
   ]
  },
  {
   "cell_type": "markdown",
   "metadata": {
    "tags": [
     "exercise"
    ]
   },
   "source": [
    "## Writing Functions\n",
    "\n",
    "__Exercise 1.3 (10 points).__ Write a function `mean` that takes a list of numbers as input and returns their mean as output. Test your function on at least two examples."
   ]
  },
  {
   "cell_type": "code",
   "execution_count": 4,
   "metadata": {},
   "outputs": [
    {
     "name": "stdout",
     "output_type": "stream",
     "text": [
      "5.5\n",
      "11.0\n"
     ]
    }
   ],
   "source": [
    "def mean(some_list):\n",
    "    total_sum = 0\n",
    "    for item in some_list:\n",
    "        total_sum += item\n",
    "    return total_sum / len(some_list)\n",
    "\n",
    "list1 = [1,2,3,4,5,6,7,8,9,10]\n",
    "list2 = [2,4,6,8,10,12,14,16,18,20]\n",
    "\n",
    "print(mean(list1))\n",
    "print(mean(list2))"
   ]
  },
  {
   "cell_type": "markdown",
   "metadata": {
    "tags": [
     "exercise"
    ]
   },
   "source": [
    "__Exercise 1.4 (10 points).__ For the function you wrote in Exercise 1.3, what happens if the input list is empty or contains non-numeric elements? Create a new version of your function called `better_mean` that returns `None` when either of these unusual cases occur.\n",
    "\n",
    "_Hint: A similar problem is discussed in [Section 6.8](http://greenteapress.com/thinkpython2/html/thinkpython2007.html#sec77) of Think Python._"
   ]
  },
  {
   "cell_type": "code",
   "execution_count": 5,
   "metadata": {},
   "outputs": [
    {
     "name": "stdout",
     "output_type": "stream",
     "text": [
      "None\n",
      "None\n",
      "20.0\n"
     ]
    }
   ],
   "source": [
    "def better_mean(some_list):\n",
    "    if (len(some_list) == 0):\n",
    "        return None\n",
    "    \n",
    "    for item in some_list:\n",
    "        if not isinstance(item,(float,int)):\n",
    "            return None\n",
    "\n",
    "    total_sum = 0\n",
    "    for item in some_list:\n",
    "        total_sum += item\n",
    "    return total_sum / len(some_list)\n",
    "\n",
    "print(better_mean([])) # empty list\n",
    "print(better_mean(['a','b','c'])) # character list\n",
    "print(better_mean([10,15,20,25,30])) # numerical list"
   ]
  },
  {
   "cell_type": "markdown",
   "metadata": {
    "tags": [
     "exercise"
    ]
   },
   "source": [
    "__Exercise 1.5 (10 points).__ Read [Section 4.9](http://greenteapress.com/thinkpython2/html/thinkpython2005.html#sec50) of Think Python. Create a new version of your function from Exercise 1.4 called `best_mean` that includes a docstring explaining how to use the function. Give an example to show that your docstring works with Python's built-in help system."
   ]
  },
  {
   "cell_type": "code",
   "execution_count": 6,
   "metadata": {},
   "outputs": [
    {
     "name": "stdout",
     "output_type": "stream",
     "text": [
      "Help on function better_mean in module __main__:\n",
      "\n",
      "better_mean(some_list)\n",
      "    Calculates the mean for some_list so long as the list is not empty,\n",
      "    and the elements are numeric.\n",
      "\n"
     ]
    }
   ],
   "source": [
    "def better_mean(some_list):\n",
    "    ''' Calculates the mean for some_list so long as the list is not empty,\n",
    "    and the elements are numeric.\n",
    "    '''\n",
    "    if (len(some_list) == 0):\n",
    "        return None\n",
    "    \n",
    "    for item in some_list:\n",
    "        if not isinstance(item,(float,int)):\n",
    "            return None\n",
    "\n",
    "    total_sum = 0  # mean calculation\n",
    "    for item in some_list:\n",
    "        total_sum += item\n",
    "    return total_sum / len(some_list)\n",
    "\n",
    "help(better_mean)"
   ]
  },
  {
   "cell_type": "markdown",
   "metadata": {
    "tags": [
     "exercise"
    ]
   },
   "source": [
    "__Exercise 1.6 (10 points).__ Write a function `median` that takes a list of numbers as input and returns their median as output. Document your function with a docstring. Test your function on at least two examples."
   ]
  },
  {
   "cell_type": "code",
   "execution_count": 7,
   "metadata": {},
   "outputs": [
    {
     "name": "stdout",
     "output_type": "stream",
     "text": [
      "3.5\n",
      "11\n",
      "50\n"
     ]
    }
   ],
   "source": [
    "def median(some_list):\n",
    "    ''' Calculates the median of some_list so long as the list is not empty,\n",
    "    and the elements are numeric. Calculates median differently depending if length of some_list\n",
    "    is odd or even.\n",
    "    '''\n",
    "    if (len(some_list) == 0):\n",
    "        return None\n",
    "    \n",
    "    for item in some_list:\n",
    "        if not isinstance(item,(float,int)):\n",
    "            return None\n",
    "\n",
    "    # sort list\n",
    "    some_list.sort()\n",
    "\n",
    "    if len(some_list) % 2 == 0: # even list\n",
    "        num1_idx = int(len(some_list) / 2) - 1\n",
    "        num2_idx = int(len(some_list) / 2)\n",
    "        num1 = some_list[num1_idx]\n",
    "        num2 = some_list[num2_idx]\n",
    "        return (num1 + num2) / 2\n",
    "    else : # odd list\n",
    "        idx = int(len(some_list) // 2)\n",
    "        return some_list[idx]\n",
    "    \n",
    "print(median([2,3,1,4,5,6])) # check even-length list\n",
    "print(median([9,11,12,10,13])) # check odd-length list\n",
    "print(median([50])) # check list of length one"
   ]
  },
  {
   "cell_type": "markdown",
   "metadata": {
    "tags": [
     "exercise"
    ]
   },
   "source": [
    "## Finding Exponential Roots\n",
    "\n",
    "The Newton-Raphson algorithm is an algorithm for finding the zeroes of a mathematical function. We can use the Newton-Raphson algorithm to find zeroes of the function\n",
    "\n",
    "$$\n",
    "f(x) = x^p - c\n",
    "$$\n",
    "\n",
    "where $p$ and $c$ are constants. For example, if we choose $p = 2$ and $c = 5$, the Newton-Raphson algorithm finds solutions to\n",
    "\n",
    "$$\n",
    "0 = x^2 - 5\n",
    "$$\n",
    "\n",
    "In other words, we can use the algorithm to find square roots. By changing $p$, we can also find other kinds of exponential roots.\n",
    "\n",
    "\n",
    "The algorithm works by starting from an initial guess $x_0$ and then iteratively evaluating\n",
    "\n",
    "$$\n",
    "x_{n+1} = x_n - \\frac{f(x_n)}{f'(x_n)}\n",
    "$$\n",
    "\n",
    "for $n = 0, 1, 2, \\dots, N$ until reaching a result $X_{N+1}$ with acceptable accuracy. The initial guess does not need to be an excellent guess, but can affect which zero is found.\n",
    "\n",
    "For our specific function $f$, note that $f'(x) = px^{p-1}$.\n",
    "\n",
    "__Exercise 1.7 (20 points).__ Write a function `root` that uses the Newton-Raphson algorithm to compute one of the $p$-th roots for a constant $c$. Your function does not need to find complex roots, only real roots. Your function should have arguments\n",
    "\n",
    "* `c`, the constant\n",
    "* `p`, the power\n",
    "* `x0`, the initial guess\n",
    "* `N`, the maximum number of iterations\n",
    "\n",
    "Test your function for $c = 2$, $p = 2$, $N = 100$. Try different values of $x_0$. Can you find initial guesses to get both roots? Explain what happens when the initial guess is $x_0 = 0$."
   ]
  },
  {
   "cell_type": "code",
   "execution_count": 3,
   "metadata": {},
   "outputs": [
    {
     "name": "stdout",
     "output_type": "stream",
     "text": [
      "1.414213562373095\n",
      "-1.414213562373095\n"
     ]
    }
   ],
   "source": [
    "def root(c,p,x0,N):\n",
    "    x = x0\n",
    "    for i in range(1,N+1):\n",
    "        x = x - ((x**p)-c)/(p*(x**(p-1)))\n",
    "        \n",
    "    return x\n",
    "\n",
    "print(root(2,2,2,100)) # first root\n",
    "print(root(2,2,-2,100)) # second root"
   ]
  },
  {
   "cell_type": "code",
   "execution_count": 7,
   "metadata": {},
   "outputs": [
    {
     "ename": "ZeroDivisionError",
     "evalue": "division by zero",
     "output_type": "error",
     "traceback": [
      "\u001b[0;31m---------------------------------------------------------------------------\u001b[0m",
      "\u001b[0;31mZeroDivisionError\u001b[0m                         Traceback (most recent call last)",
      "\u001b[0;32m<ipython-input-7-24978d015936>\u001b[0m in \u001b[0;36m<module>\u001b[0;34m()\u001b[0m\n\u001b[0;32m----> 1\u001b[0;31m \u001b[0mroot\u001b[0m\u001b[0;34m(\u001b[0m\u001b[0;36m2\u001b[0m\u001b[0;34m,\u001b[0m\u001b[0;36m2\u001b[0m\u001b[0;34m,\u001b[0m\u001b[0;36m0\u001b[0m\u001b[0;34m,\u001b[0m\u001b[0;36m100\u001b[0m\u001b[0;34m)\u001b[0m\u001b[0;34m\u001b[0m\u001b[0;34m\u001b[0m\u001b[0m\n\u001b[0m",
      "\u001b[0;32m<ipython-input-6-d40092623f0e>\u001b[0m in \u001b[0;36mroot\u001b[0;34m(c, p, x0, N)\u001b[0m\n\u001b[1;32m      2\u001b[0m     \u001b[0mx\u001b[0m \u001b[0;34m=\u001b[0m \u001b[0mx0\u001b[0m\u001b[0;34m\u001b[0m\u001b[0;34m\u001b[0m\u001b[0m\n\u001b[1;32m      3\u001b[0m     \u001b[0;32mfor\u001b[0m \u001b[0mi\u001b[0m \u001b[0;32min\u001b[0m \u001b[0mrange\u001b[0m\u001b[0;34m(\u001b[0m\u001b[0;36m1\u001b[0m\u001b[0;34m,\u001b[0m\u001b[0mN\u001b[0m\u001b[0;34m+\u001b[0m\u001b[0;36m1\u001b[0m\u001b[0;34m)\u001b[0m\u001b[0;34m:\u001b[0m\u001b[0;34m\u001b[0m\u001b[0;34m\u001b[0m\u001b[0m\n\u001b[0;32m----> 4\u001b[0;31m         \u001b[0mx\u001b[0m \u001b[0;34m=\u001b[0m \u001b[0mx\u001b[0m \u001b[0;34m-\u001b[0m \u001b[0;34m(\u001b[0m\u001b[0;34m(\u001b[0m\u001b[0mx\u001b[0m\u001b[0;34m**\u001b[0m\u001b[0mp\u001b[0m\u001b[0;34m)\u001b[0m\u001b[0;34m-\u001b[0m\u001b[0mc\u001b[0m\u001b[0;34m)\u001b[0m\u001b[0;34m/\u001b[0m\u001b[0;34m(\u001b[0m\u001b[0mp\u001b[0m\u001b[0;34m*\u001b[0m\u001b[0mx\u001b[0m\u001b[0;34m)\u001b[0m\u001b[0;34m**\u001b[0m\u001b[0;34m(\u001b[0m\u001b[0mp\u001b[0m\u001b[0;34m-\u001b[0m\u001b[0;36m1\u001b[0m\u001b[0;34m)\u001b[0m\u001b[0;34m\u001b[0m\u001b[0;34m\u001b[0m\u001b[0m\n\u001b[0m\u001b[1;32m      5\u001b[0m \u001b[0;34m\u001b[0m\u001b[0m\n\u001b[1;32m      6\u001b[0m     \u001b[0;32mreturn\u001b[0m \u001b[0mx\u001b[0m\u001b[0;34m\u001b[0m\u001b[0;34m\u001b[0m\u001b[0m\n",
      "\u001b[0;31mZeroDivisionError\u001b[0m: division by zero"
     ]
    }
   ],
   "source": [
    "root(2,2,0,100)"
   ]
  },
  {
   "cell_type": "markdown",
   "metadata": {},
   "source": [
    "When the initial value is $0$ we get an error. This makes sense, because if the derivative is $0$ of the initial tangent line created by $x_{0}$, then we are unable to get $x_{n+1}$, becuase the tangent line of $x_{0}$ does not intersect the x-axis at another x-value."
   ]
  },
  {
   "cell_type": "markdown",
   "metadata": {
    "tags": [
     "exercise"
    ]
   },
   "source": [
    "__Exercise 1.8 (20 points).__ Read the Python documentation for the string `.format()` method (see [here](https://docs.python.org/3/library/stdtypes.html#str.format)). Create a new version of your function from Exercise 1.7 called `root_print` that neatly prints the iteration number and estimate for each iteration up to $N$.\n",
    "\n",
    "Test your function for $c = 7$, $p = 3$, $x_0 = 2$, $N = 50$. About how many iterations does it take for the first 3 digits to stabilize at the correct values?"
   ]
  },
  {
   "cell_type": "code",
   "execution_count": 8,
   "metadata": {},
   "outputs": [
    {
     "name": "stdout",
     "output_type": "stream",
     "text": [
      "Iteration: 1, Estimate: 1.9166666666666667\n",
      "Iteration: 2, Estimate: 1.9129384583070783\n",
      "Iteration: 3, Estimate: 1.9129311828000604\n",
      "Iteration: 4, Estimate: 1.9129311827723892\n",
      "Iteration: 5, Estimate: 1.9129311827723892\n",
      "Iteration: 6, Estimate: 1.9129311827723892\n",
      "Iteration: 7, Estimate: 1.9129311827723892\n",
      "Iteration: 8, Estimate: 1.9129311827723892\n",
      "Iteration: 9, Estimate: 1.9129311827723892\n",
      "Iteration: 10, Estimate: 1.9129311827723892\n",
      "Iteration: 11, Estimate: 1.9129311827723892\n",
      "Iteration: 12, Estimate: 1.9129311827723892\n",
      "Iteration: 13, Estimate: 1.9129311827723892\n",
      "Iteration: 14, Estimate: 1.9129311827723892\n",
      "Iteration: 15, Estimate: 1.9129311827723892\n",
      "Iteration: 16, Estimate: 1.9129311827723892\n",
      "Iteration: 17, Estimate: 1.9129311827723892\n",
      "Iteration: 18, Estimate: 1.9129311827723892\n",
      "Iteration: 19, Estimate: 1.9129311827723892\n",
      "Iteration: 20, Estimate: 1.9129311827723892\n",
      "Iteration: 21, Estimate: 1.9129311827723892\n",
      "Iteration: 22, Estimate: 1.9129311827723892\n",
      "Iteration: 23, Estimate: 1.9129311827723892\n",
      "Iteration: 24, Estimate: 1.9129311827723892\n",
      "Iteration: 25, Estimate: 1.9129311827723892\n",
      "Iteration: 26, Estimate: 1.9129311827723892\n",
      "Iteration: 27, Estimate: 1.9129311827723892\n",
      "Iteration: 28, Estimate: 1.9129311827723892\n",
      "Iteration: 29, Estimate: 1.9129311827723892\n",
      "Iteration: 30, Estimate: 1.9129311827723892\n",
      "Iteration: 31, Estimate: 1.9129311827723892\n",
      "Iteration: 32, Estimate: 1.9129311827723892\n",
      "Iteration: 33, Estimate: 1.9129311827723892\n",
      "Iteration: 34, Estimate: 1.9129311827723892\n",
      "Iteration: 35, Estimate: 1.9129311827723892\n",
      "Iteration: 36, Estimate: 1.9129311827723892\n",
      "Iteration: 37, Estimate: 1.9129311827723892\n",
      "Iteration: 38, Estimate: 1.9129311827723892\n",
      "Iteration: 39, Estimate: 1.9129311827723892\n",
      "Iteration: 40, Estimate: 1.9129311827723892\n",
      "Iteration: 41, Estimate: 1.9129311827723892\n",
      "Iteration: 42, Estimate: 1.9129311827723892\n",
      "Iteration: 43, Estimate: 1.9129311827723892\n",
      "Iteration: 44, Estimate: 1.9129311827723892\n",
      "Iteration: 45, Estimate: 1.9129311827723892\n",
      "Iteration: 46, Estimate: 1.9129311827723892\n",
      "Iteration: 47, Estimate: 1.9129311827723892\n",
      "Iteration: 48, Estimate: 1.9129311827723892\n",
      "Iteration: 49, Estimate: 1.9129311827723892\n",
      "Iteration: 50, Estimate: 1.9129311827723892\n"
     ]
    },
    {
     "data": {
      "text/plain": [
       "1.9129311827723892"
      ]
     },
     "execution_count": 8,
     "metadata": {},
     "output_type": "execute_result"
    }
   ],
   "source": [
    "def root_print(c,p,x0,N):\n",
    "    x = x0\n",
    "    for i in range(1,N+1):\n",
    "        x = x - ((x**p)-c)/(p*(x**(p-1)))\n",
    "        print(\"Iteration: {}, Estimate: {}\".format(i,x)) # String formatting\n",
    "        \n",
    "    return x\n",
    "\n",
    "root_print(7,3,2,50)"
   ]
  },
  {
   "cell_type": "markdown",
   "metadata": {},
   "source": [
    "It takes about 2 iterations for the first three digits after the decimal to stabilize to the correct values."
   ]
  },
  {
   "cell_type": "markdown",
   "metadata": {
    "tags": [
     "exercise"
    ]
   },
   "source": [
    "## Fibonacci Words\n",
    "\n",
    "A [Fibonacci word](https://en.wikipedia.org/wiki/Fibonacci_word) is a string of 0s and 1s constructed by repeatedly concatenating strings. The first two words are\n",
    "\n",
    "```\n",
    "S0 = \"0\"\n",
    "S1 = \"01\"\n",
    "```\n",
    "\n",
    "Then each word is formed by concatenating the previous two words in the sequence. For instance, `S2`, is formed by concatenating `S1` and `S0`. So\n",
    "\n",
    "```\n",
    "S2 = \"010\"\n",
    "S3 = \"01001\"\n",
    "```\n",
    "\n",
    "__Exercise 1.9 (20 points).__ Write a function `fib` that computes Fibonacci words. Your function should take an argument `n` that specifies which word to compute.\n",
    "\n",
    "Use your function to print the first 10 Fibonacci words."
   ]
  },
  {
   "cell_type": "code",
   "execution_count": 11,
   "metadata": {},
   "outputs": [],
   "source": [
    "def fib(n):\n",
    "    if n == 0:\n",
    "        return \"0\"\n",
    "    elif n == 1:\n",
    "        return \"01\"\n",
    "    else:\n",
    "        return(fib(n-1) + fib(n-2))"
   ]
  },
  {
   "cell_type": "code",
   "execution_count": 12,
   "metadata": {},
   "outputs": [
    {
     "name": "stdout",
     "output_type": "stream",
     "text": [
      "0\n",
      "01\n",
      "010\n",
      "01001\n",
      "01001010\n",
      "0100101001001\n",
      "010010100100101001010\n",
      "0100101001001010010100100101001001\n",
      "0100101001001010010100100101001001010010100100101001010\n",
      "01001010010010100101001001010010010100101001001010010100100101001001010010100100101001001\n"
     ]
    }
   ],
   "source": [
    "# print first 10 Fibonacci words\n",
    "for i in range(0,10):\n",
    "    print(fib(i))"
   ]
  }
 ],
 "metadata": {
  "celltoolbar": "Tags",
  "kernelspec": {
   "display_name": "Python 3",
   "language": "python",
   "name": "python3"
  },
  "language_info": {
   "codemirror_mode": {
    "name": "ipython",
    "version": 3
   },
   "file_extension": ".py",
   "mimetype": "text/x-python",
   "name": "python",
   "nbconvert_exporter": "python",
   "pygments_lexer": "ipython3",
   "version": "3.7.2"
  }
 },
 "nbformat": 4,
 "nbformat_minor": 2
}
